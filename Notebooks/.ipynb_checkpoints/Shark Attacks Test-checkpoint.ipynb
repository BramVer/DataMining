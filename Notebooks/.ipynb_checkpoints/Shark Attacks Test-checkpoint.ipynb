{
 "cells": [
  {
   "cell_type": "code",
   "execution_count": 17,
   "metadata": {
    "collapsed": false
   },
   "outputs": [],
   "source": [
    "from pprint import pprint\n",
    "\n",
    "data_file = \"../Data/attacks.csv\"\n",
    "raw_data = sc.textFile(data_file)\n",
    "header = raw_data.first() #extract header\n",
    "raw_data = raw_data.filter(lambda row: row != header)"
   ]
  },
  {
   "cell_type": "code",
   "execution_count": 18,
   "metadata": {
    "collapsed": false
   },
   "outputs": [
    {
     "data": {
      "text/plain": [
       "6003"
      ]
     },
     "execution_count": 18,
     "metadata": {},
     "output_type": "execute_result"
    }
   ],
   "source": [
    "raw_data.count()"
   ]
  },
  {
   "cell_type": "code",
   "execution_count": 19,
   "metadata": {
    "collapsed": false
   },
   "outputs": [
    {
     "data": {
      "text/plain": [
       "u'2016.09.18.c,18-Sep-2016,2016,Unprovoked,USA,Florida,New Smyrna Beach; Volusia County,Surfing,male,M,16,Minor injury to thigh,N,13h00,,Orlando Sentinel; 9/19/2016'"
      ]
     },
     "execution_count": 19,
     "metadata": {},
     "output_type": "execute_result"
    }
   ],
   "source": [
    "raw_data.take(5)[0]"
   ]
  },
  {
   "cell_type": "code",
   "execution_count": 25,
   "metadata": {
    "collapsed": false
   },
   "outputs": [
    {
     "name": "stdout",
     "output_type": "stream",
     "text": [
      "4326\n",
      "1552\n"
     ]
    }
   ],
   "source": [
    "def get_by_fatal(line):\n",
    "    elems = line.split(',')\n",
    "    try:\n",
    "        tag = elems[12]\n",
    "    except:\n",
    "        tag = 'N'\n",
    "    return (tag, elems)\n",
    "by_fatal_data = raw_data.map(get_by_fatal)\n",
    "fatal_data = by_fatal_data.filter(lambda x: x[0] == 'Y')\n",
    "non_fatal_data = by_fatal_data.filter(lambda x: x[0] == 'N')\n",
    "print(non_fatal_data.count())\n",
    "print(fatal_data.count())\n",
    "\n",
    "\n",
    "\n",
    "    "
   ]
  },
  {
   "cell_type": "code",
   "execution_count": null,
   "metadata": {
    "collapsed": true
   },
   "outputs": [],
   "source": []
  },
  {
   "cell_type": "code",
   "execution_count": null,
   "metadata": {
    "collapsed": true
   },
   "outputs": [],
   "source": []
  },
  {
   "cell_type": "code",
   "execution_count": null,
   "metadata": {
    "collapsed": true
   },
   "outputs": [],
   "source": []
  },
  {
   "cell_type": "code",
   "execution_count": null,
   "metadata": {
    "collapsed": true
   },
   "outputs": [],
   "source": []
  }
 ],
 "metadata": {
  "kernelspec": {
   "display_name": "Python 2",
   "language": "python",
   "name": "python2"
  },
  "language_info": {
   "codemirror_mode": {
    "name": "ipython",
    "version": 2
   },
   "file_extension": ".py",
   "mimetype": "text/x-python",
   "name": "python",
   "nbconvert_exporter": "python",
   "pygments_lexer": "ipython2",
   "version": "2.7.9"
  }
 },
 "nbformat": 4,
 "nbformat_minor": 1
}
