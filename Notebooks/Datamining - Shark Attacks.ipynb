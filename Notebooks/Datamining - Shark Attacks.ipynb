{
 "cells": [
  {
   "cell_type": "code",
   "execution_count": 65,
   "metadata": {
    "collapsed": false,
    "nbpresent": {
     "id": "e656c855-cccc-43d6-aa32-c785fd3ee7fe"
    }
   },
   "outputs": [
    {
     "ename": "ImportError",
     "evalue": "No module named vincent",
     "output_type": "error",
     "traceback": [
      "\u001b[0;31m---------------------------------------------------------------------------\u001b[0m",
      "\u001b[0;31mImportError\u001b[0m                               Traceback (most recent call last)",
      "\u001b[0;32m<ipython-input-65-3d270c668537>\u001b[0m in \u001b[0;36m<module>\u001b[0;34m()\u001b[0m\n\u001b[1;32m      6\u001b[0m \u001b[1;32mimport\u001b[0m \u001b[0mnumpy\u001b[0m \u001b[1;32mas\u001b[0m \u001b[0mnp\u001b[0m\u001b[1;33m\u001b[0m\u001b[0m\n\u001b[1;32m      7\u001b[0m \u001b[1;32mimport\u001b[0m \u001b[0mmatplotlib\u001b[0m\u001b[1;33m.\u001b[0m\u001b[0mpylab\u001b[0m \u001b[1;32mas\u001b[0m \u001b[0mpylab\u001b[0m\u001b[1;33m\u001b[0m\u001b[0m\n\u001b[0;32m----> 8\u001b[0;31m \u001b[1;32mimport\u001b[0m \u001b[0mvincent\u001b[0m\u001b[1;33m\u001b[0m\u001b[0m\n\u001b[0m\u001b[1;32m      9\u001b[0m \u001b[1;32mfrom\u001b[0m \u001b[0mcollections\u001b[0m \u001b[1;32mimport\u001b[0m \u001b[0mCounter\u001b[0m\u001b[1;33m\u001b[0m\u001b[0m\n\u001b[1;32m     10\u001b[0m \u001b[0mpylab\u001b[0m\u001b[1;33m.\u001b[0m\u001b[0mstyle\u001b[0m\u001b[1;33m.\u001b[0m\u001b[0muse\u001b[0m\u001b[1;33m(\u001b[0m\u001b[1;34m'ggplot'\u001b[0m\u001b[1;33m)\u001b[0m\u001b[1;33m\u001b[0m\u001b[0m\n",
      "\u001b[0;31mImportError\u001b[0m: No module named vincent"
     ]
    }
   ],
   "source": [
    "from pprint import pprint\n",
    "from IPython.display import HTML\n",
    "import pandas as pd\n",
    "import matplotlib.pyplot as plt\n",
    "import re\n",
    "import numpy as np\n",
    "import matplotlib.pylab as pylab\n",
    "import vincent\n",
    "from collections import Counter\n",
    "pylab.style.use('ggplot')\n",
    "\n",
    "data_file = \"../Data/attacks.csv\"\n",
    "raw_data = sc.textFile(data_file)\n",
    "header = raw_data.first() #extract header\n",
    "raw_data = raw_data.filter(lambda row: row != header)\n",
    "\n",
    "countries = {'CROATIA': 0, 'NORWAY': 0, 'FRANCE': 0, 'MARTINIQUE': 0, 'ICELAND': 0, \n",
    "            'JAVA': 1, 'Sierra Leone': 0, 'CYPRUS': 0, 'LIBERIA': 0, 'NEW BRITAIN': 1, \n",
    "            'URUGUAY': 1, 'NORTH ATLANTIC OCEAN ': 0, 'ADMIRALTY ISLANDS': 1, \n",
    "            'PAPUA NEW GUINEA': 1, 'DJIBOUTI': 0, 'TAIWAN': 1, 'EL SALVADOR': 0, \n",
    "            'ST. MAARTIN': 0, 'ASIA?': 0, 'NAMIBIA': 1, 'OCEAN': 1, 'CAPE VERDE': 0, \n",
    "            'MID ATLANTIC OCEAN': 0, 'MAURITIUS': 1, 'ANTIGUA': 0, 'FRENCH POLYNESIA': 1, \n",
    "            'JOHNSTON ISLAND': 0, 'SUDAN': 0, 'SOUTH KOREA': 0, 'TUVALU': 1, \n",
    "            'SOUTH ATLANTIC OCEAN': 1, 'UNITED ARAB EMIRATES (UAE)': 0, 'DOMINICAN REPUBLIC': 0, \n",
    "            ' PHILIPPINES': 0, 'MALAYSIA': 0, 'BRITISH VIRGIN ISLANDS': 0, 'CHINA': 0, \n",
    "            'ATLANTIC OCEAN': 0, 'ITALY': 0, 'VENEZUELA': 0, 'SOLOMON ISLANDS / VANUATU': 1, \n",
    "            'SOUTH CHINA SEA': 0, 'Between PORTUGAL & INDIA': 2, 'DIEGO GARCIA': 1, \n",
    "            'MEDITERRANEAN SEA?': 0, 'INDIAN OCEAN?': 1, 'INDIA': 0, 'SOUTH AFRICA': 1, \n",
    "            'St Helena': 1, 'WESTERN SAMOA': 1, 'TASMAN SEA': 1, 'HONG KONG': 0, 'TONGA': 1, \n",
    "            'YEMEN': 0, 'COLUMBIA': 0, 'NORTHERN MARIANA ISLANDS': 0, 'GUAM': 0, 'GUINEA': 0, \n",
    "            'CENTRAL PACIFIC': 2, 'GUATEMALA': 0, 'FIJI': 1, 'GULF OF ADEN': 0, 'JAPAN': 0, \n",
    "            'MID-PACIFC OCEAN': 0, 'ST. MARTIN': 1, 'USA': 0, 'CRETE': 0, 'BRAZIL': 1, \n",
    "            'TURKS & CAICOS': 0, 'SOUTHWEST PACIFIC OCEAN': 1, 'GREENLAND': 0, \n",
    "            'BAY OF BENGAL': 1, 'PACIFIC OCEAN': 0, 'LEBANON': 0, 'MALTA': 0, 'NIGERIA': 0, \n",
    "            'GREECE': 0, 'MEXICO': 0, 'BERMUDA': 0, 'UNITED KINGDOM': 0, 'SINGAPORE': 0, \n",
    "            'BRITISH ISLES': 0, 'TURKEY': 0, 'NEVIS': 1, 'AUSTRALIA': 1, 'ENGLAND': 0, \n",
    "            'SIERRA LEONE': 0, 'VANUATU': 1, 'NORTH SEA': 0, 'RUSSIA': 0, 'MICRONESIA': 0, \n",
    "            'PORTUGAL': 0, 'RED SEA': 0, 'MONTENEGRO': 0, 'IRAQ': 0, 'SWEDEN': 0, \n",
    "            'PERSIAN GULF': 0, 'NORTH ATLANTIC OCEAN': 0, 'Fiji': 1, 'SLOVENIA': 0, \n",
    "            'PHILIPPINES': 0, 'IRAN / IRAQ': 0, 'TUNISIA': 0, 'SAN DOMINGO': 1, 'AZORES': 0, \n",
    "            'GEORGIA': 0, 'BURMA': 0, 'NEW GUINEA': 1, 'SUDAN?': 0, 'NETHERLANDS ANTILLES': 0, \n",
    "            'ALGERIA': 0, 'NICARAGUA': 0, 'SEYCHELLES': 1, 'RED SEA?': 0, 'BRITISH NEW GUINEA': 1, \n",
    "            'THAILAND': 0, 'PALESTINIAN TERRITORIES': 0, 'FALKLAND ISLANDS': 1, 'IRELAND': 0, \n",
    "            'MONACO': 0, 'PARAGUAY': 1, 'SYRIA': 0, 'EGYPT ': 0, 'MADAGASCAR': 1, \n",
    "            'NORTH PACIFIC OCEAN': 0, 'EGYPT / ISRAEL': 0, 'COOK ISLANDS': 1, \n",
    "            'TRINIDAD & TOBAGO': 0, 'PACIFIC OCEAN ': 0, 'EQUATORIAL GUINEA / CAMEROON': 0, \n",
    "            'ISRAEL': 0, 'SAMOA': 1, 'ECUADOR': 1, 'CARIBBEAN SEA': 0, 'NEW CALEDONIA': 1, \n",
    "            'MARSHALL ISLANDS': 0, 'PANAMA': 0, 'UNITED ARAB EMIRATES': 0, 'ITALY / CROATIA': 0, \n",
    "            'NEW ZEALAND': 1, 'MALDIVE ISLANDS': 0, 'GHANA': 0, 'MOZAMBIQUE': 0, 'SRI LANKA': 0, \n",
    "            'SOLOMON ISLANDS': 1, 'Coast of AFRICA': 1, 'BARBADOS': 0, 'BANGLADESH': 0, \n",
    "            'CHILE': 1, 'CANADA': 0, 'HONDURAS': 0, 'PALAU': 0, 'AMERICAN SAMOA': 1, \n",
    "            'SAUDI ARABIA': 0, ' TONGA': 1, 'SPAIN': 0, 'ARGENTINA': 1, 'CURACAO': 0, \n",
    "            'ANDAMAN / NICOBAR ISLANDAS': 0, 'KENYA': 1, 'EGYPT': 0, 'THE BALKANS': 0, \n",
    "            'PUERTO RICO': 0, 'KIRIBATI': 0, 'OKINAWA': 0, 'REUNION': 1, \n",
    "            'BRITISH WEST INDIES': 0, 'NICARAGUA ': 0, 'FEDERATED STATES OF MICRONESIA': 0, \n",
    "            'IRAN': 0, 'CAYMAN ISLANDS': 0, 'SOMALIA': 0, 'INDONESIA': 1, 'KUWAIT': 0, \n",
    "            'Seychelles': 1, 'COSTA RICA': 0, 'INDIAN OCEAN': 1, 'CEYLON (SRI LANKA)': 0, \n",
    "            'YEMEN ': 0, 'HAITI': 0, 'SCOTLAND': 0, 'CUBA': 0, 'GUYANA': 0, 'LIBYA': 0, \n",
    "            'MEXICO ': 0, 'SENEGAL': 0, 'GRAND CAYMAN': 0, 'GABON': 1, 'GRENADA': 0, \n",
    "            'RED SEA / INDIAN OCEAN': 0, 'VIETNAM': 0, 'BAHAMAS': 0, 'BAHREIN': 0, \n",
    "            'NORTHERN ARABIAN SEA': 0, 'BELIZE': 0, 'MEDITERRANEAN SEA': 0, 'ANGOLA': 1, \n",
    "            'SOUTH PACIFIC OCEAN': 1, 'TANZANIA': 1, 'KOREA': 0, 'JAMAICA': 0, 'ARUBA': 0, \n",
    "            'MAYOTTE':1}\n",
    "\n",
    "def add_hemisphere(line):\n",
    "    elems = line.split(',')\n",
    "    try:\n",
    "        country = elems[4]\n",
    "    except:\n",
    "        country = ''\n",
    "    hemi = countries.get(country)\n",
    "    elems.append(hemi)\n",
    "    return (elems)\n",
    "\n",
    "raw_data = raw_data.map(add_hemisphere)\n",
    "pprint(raw_data.count())\n",
    "\n",
    "def get_season(month, day, hemi):\n",
    "    m = month * 100\n",
    "    if day == 0:\n",
    "        d = 1\n",
    "    else:\n",
    "        d = day\n",
    "    md = m + d\n",
    "    if hemi == 0:\n",
    "        if ((md >= 301) and (md <= 531)):\n",
    "            s = 'spring'\n",
    "        elif ((md > 531) and (md < 901)):\n",
    "            s = 'summer'\n",
    "        elif ((md >= 901) and (md <= 1130)):\n",
    "            s = 'fall'\n",
    "        elif ((md > 1130) and (md <= 229)):\n",
    "            s = 'winter'\n",
    "        else:\n",
    "            s = 'unknown'\n",
    "    else:\n",
    "        if ((md >= 301) and (md <= 531)):\n",
    "            s = 'fall'\n",
    "        elif ((md > 531) and (md < 901)):\n",
    "            s = 'winter'\n",
    "        elif ((md >= 901) and (md <= 1130)):\n",
    "            s = 'spring'\n",
    "        elif ((md > 1130) and (md <= 229)):\n",
    "            s = 'summer'\n",
    "        else:\n",
    "            s = 'unknown'\n",
    "    return s\n",
    "\n",
    "def add_season(line):\n",
    "    date = line[0]\n",
    "    year = date.split('.')[0]\n",
    "    try:\n",
    "        month = int(date.split('.')[1])\n",
    "        day = int(date.split('.')[2])\n",
    "    except:\n",
    "        month = 0\n",
    "        day = 0\n",
    "    try:\n",
    "        hemi = line[16]\n",
    "    except:\n",
    "        hemi = 0\n",
    "    if year.startswith('00') or len(year) != 4 or month == 0:\n",
    "        season = 'unknown'\n",
    "    else:\n",
    "        season = get_season(month,day,hemi)\n",
    "    line.append(season)\n",
    "    return line\n",
    "season_raw_data = raw_data.map(add_season)\n",
    "pprint(season_raw_data.count())\n"
   ]
  },
  {
   "cell_type": "code",
   "execution_count": 20,
   "metadata": {
    "collapsed": false,
    "nbpresent": {
     "id": "2735b7b9-07dd-4f86-b930-5d0202b7c58e"
    }
   },
   "outputs": [
    {
     "name": "stdout",
     "output_type": "stream",
     "text": [
      "defaultdict(<type 'int'>, {'unknown': 1823, 'fall': 1429, 'summer': 1303, 'winter': 383, 'spring': 1065})\n",
      "1303\n"
     ]
    }
   ],
   "source": [
    "def get_by_season(line):\n",
    "    try:\n",
    "        tag = line[17]\n",
    "    except:\n",
    "        tag = 'unknown'\n",
    "    return (tag, line)\n",
    "\n",
    "by_season_data = season_raw_data.map(get_by_season)\n",
    "count_by_season_data = by_season_data.countByKey()\n",
    "pprint(count_by_season_data)\n",
    "print(count_by_season_data.get('summer'))"
   ]
  },
  {
   "cell_type": "code",
   "execution_count": 21,
   "metadata": {
    "collapsed": false,
    "nbpresent": {
     "id": "497d0a29-8837-494c-8851-65597d6da3a8"
    }
   },
   "outputs": [
    {
     "name": "stdout",
     "output_type": "stream",
     "text": [
      "defaultdict(<type 'int'>, {u'': 2, u'1788': 1, u'1818': 1, u'1785': 1, u'1787': 1, u'1869': 2, u'1868': 6, u'1832': 2, u'1948': 29, u'1949': 31, u'1836': 2, u'1837': 3, u'1834': 1, u'1835': 2, u'1942': 41, u'1943': 28, u'1940': 24, u'1941': 27, u'1946': 26, u'1947': 30, u'1944': 31, u'1945': 16, '0': 132, u'2015': 139, u'2014': 125, u'2016': 103, u'2011': 128, u'2010': 101, u'2013': 122, u'2012': 117, u'1918': 5, u'1791': 1, u'1955': 43, u'1954': 42, u'1957': 41, u'1956': 51, u'1951': 31, u'1950': 43, u'1953': 36, u'1952': 29, u'1555': 1, u'1959': 93, u'1958': 54, u'1554': 1, u'1700': 3, u'1703': 1, u'1829': 2, u'1828': 2, u'1825': 2, u'1827': 4, u'1826': 3, u'52': 1, u'1870': 8, u'1811': 1, u'1871': 8, u'1920': 15, u'1921': 11, u'1922': 22, u'1923': 21, u'1924': 19, u'1925': 14, u'1926': 21, u'1927': 19, u'1928': 26, u'1929': 37, u'1822': 1, u'1858': 4, u'1859': 1, u'1850': 1, u'1851': 3, u'1852': 10, u'1853': 7, u'1854': 1, u'1855': 7, u'1856': 4, u'1878': 12, u'1879': 8, u'1738': 1, u'1830': 3, u'1933': 22, u'1932': 27, u'1931': 29, u'1930': 26, u'1937': 30, u'1936': 30, u'1935': 32, u'1934': 27, u'1771': 1, u'1939': 24, u'1938': 24, u'1543': 1, u'1849': 6, u'1848': 3, u'1642': 2, u'1842': 3, u'1841': 1, u'1840': 4, u'1847': 6, u'1846': 1, u'1845': 4, u'1721': 1, u'1617': 1, u'1580': 1, u'1839': 4, u'1779': 1, u'1876': 8, u'1877': 14, u'1874': 10, u'1875': 5, u'1872': 7, u'1873': 4, u'1908': 13, u'1909': 18, u'1906': 21, u'1907': 23, u'1904': 13, u'1905': 16, u'1902': 15, u'1903': 10, u'1900': 13, u'1901': 9, u'1986': 39, u'1987': 35, u'1984': 41, u'1985': 37, u'1982': 40, u'1983': 50, u'1980': 35, u'1981': 49, u'1638': 1, u'1733': 1, u'1988': 55, u'1989': 53, u'500': 1, u'1861': 5, u'1860': 6, u'1863': 7, u'1862': 12, u'1865': 4, u'1864': 8, u'1867': 4, u'1866': 1, u'1911': 16, u'1910': 14, u'1913': 16, u'1912': 13, u'1915': 12, u'1914': 17, u'1917': 11, u'1916': 25, u'1991': 38, u'1990': 38, u'1993': 56, u'1992': 56, u'1995': 76, u'1994': 56, u'1997': 57, u'1996': 61, u'1999': 65, u'1998': 65, u'1800': 1, u'1831': 1, u'1748': 1, u'1749': 1, u'1819': 1, u'1742': 1, u'1637': 1, u'1898': 19, u'1899': 19, u'1894': 15, u'1895': 20, u'1896': 11, u'1844': 4, u'1890': 16, u'1891': 8, u'1892': 11, u'1893': 13, u'1816': 1, u'1897': 11, u'1968': 46, u'1969': 30, u'1812': 1, u'1776': 2, u'1964': 66, u'1965': 51, u'1966': 58, u'1967': 48, u'1960': 93, u'1961': 78, u'1962': 86, u'1963': 61, u'5': 1, u'1758': 1, u'1755': 1, u'77': 1, u'1817': 4, u'1595': 1, u'1889': 9, u'1888': 15, u'1887': 12, u'1886': 15, u'1885': 9, u'1884': 6, u'1883': 10, u'1882': 11, u'1881': 9, u'1880': 15, u'1807': 1, u'1919': 14, u'1805': 1, u'1804': 1, u'1803': 1, u'1979': 25, u'1978': 25, u'1977': 26, u'1976': 39, u'1975': 49, u'1974': 38, u'1973': 27, u'1972': 35, u'1971': 28, u'1970': 42, u'2002': 88, u'2003': 92, u'2000': 97, u'2001': 92, u'2006': 103, u'2007': 112, u'2004': 92, u'2005': 103, u'2008': 121, u'2009': 120, u'1767': 1, u'1764': 1})\n"
     ]
    }
   ],
   "source": [
    "def get_by_year(line):\n",
    "    try:\n",
    "        tag = line[2]\n",
    "    except:\n",
    "        tag = '0'\n",
    "    return (tag, line)\n",
    "\n",
    "by_year_data = raw_data.map(get_by_year)\n",
    "count_by_year = by_year_data.countByKey()\n",
    "\n",
    "pprint(count_by_year)"
   ]
  },
  {
   "cell_type": "code",
   "execution_count": 22,
   "metadata": {
    "collapsed": false,
    "nbpresent": {
     "id": "ed51eb95-1b87-4b08-825a-5c455e7732af"
    }
   },
   "outputs": [
    {
     "name": "stdout",
     "output_type": "stream",
     "text": [
      "defaultdict(<type 'int'>, {u'': 43, u'british new guinea': 1, u'pacific ocean': 17, u'cook islands': 1, u'cayman islands': 2, u'senegal': 11, u'crete': 2, u'japan': 38, u'taiwan': 9, u'cyprus': 1, u'barbados': 5, u'british west indies': 1, u'micronesia': 3, 'united kingdom': 18, u'egypt': 38, u'aruba': 1, u'puerto rico': 1, u'argentina': 1, u'norway': 2, u'sierra leone': 9, u'england': 19, u'ghana': 1, u'gulf of aden': 1, u'st. maartin': 1, u'australia': 1279, u'asia?': 1, u'cuba': 42, u'persian gulf': 4, u'st. martin': 1, u'tasman sea': 1, u'solomon islands / vanuatu': 1, u'haiti': 3, u'liberia': 3, u'coast of africa': 1, u'philippines': 59, u'red sea?': 1, u'djibouti': 1, u'red sea': 1, u'namibia': 2, u'sri lanka': 13, u'jamaica': 23, u'greenland': 1, 'samoa': 32, u'st helena': 1, u'lebanon': 3, u'malaysia': 4, u'korea': 1, u'mozambique': 44, u'greece': 25, u'nicaragua': 6, u'brazil': 102, u'palau': 5, u'curacao': 1, u'sudan': 4, u'guinea': 3, u'panama': 32, u'bahrein': 1, u'mediterranean sea': 2, u'iceland': 1, u'somalia': 6, u'tuvalu': 1, u'netherlands antilles': 1, u'croatia': 34, u'south atlantic ocean': 12, u'venezuela': 11, u'southwest pacific ocean': 2, u'northern arabian sea': 1, u'iran': 29, u'united arab emirates': 3, u'guyana': 1, 'madagascar': 64, u'mediterranean sea?': 1, 'trinidad and tobago': 3, u'china': 6, u'nicaragua ': 1, u'thailand': 6, u'belize': 3, u'south pacific ocean': 2, u'mexico ': 1, u'northern mariana islands': 1, u'libya': 5, u'mayotte': 1, u'kuwait': 1, u'mauritius': 7, u'grand cayman': 1, u'marshall islands': 13, u'sudan?': 1, u'syria': 1, u'dominican republic': 7, u'caribbean sea': 8, u'burma': 4, u'federated states of micronesia': 1, u'seychelles': 8, u'ceylon (sri lanka)': 1, u' tonga': 3, u'tunisia': 3, u' philippines': 1, u'papua new guinea': 149, 'united states': 2120, u'mid-pacifc ocean': 1, u'kiribati': 6, u'angola': 1, u'new zealand': 125, u'fiji': 65, u'turkey': 12, u'saudi arabia': 5, u'iraq': 12, u'java': 1, u'bangladesh': 1, 'unknown': 8, u'mexico': 81, u'france': 13, u'bahamas': 98, u'western samoa': 1, u'british virgin islands': 1, u'nigeria': 4, u'ecuador': 8, u'iran / iraq': 1, u'israel': 7, u'mid atlantic ocean': 5, u'algeria': 1, u'british isles': 1, u'north atlantic ocean': 4, u'san domingo': 1, u'montenegro': 3, u'chile': 8, u'maldive islands': 1, u'south korea': 8, u'spain': 40, u'equatorial guinea / cameroon': 1, u'red sea / indian ocean': 1, u'north atlantic ocean ': 1, u'georgia': 1, u'admiralty islands': 1, u'n': 3, u'sweden': 1, u'martinique': 1, u'gabon': 1, u'north pacific ocean': 7, u'antigua': 1, u'diego garcia': 1, u'grenada': 4, u'yemen': 2, u'hong kong': 24, u'russia': 4, u'the balkans': 1, 'portugal': 8, u'uruguay': 3, u'india': 44, u'new caledonia': 51, u'andaman / nicobar islandas': 1, u'paraguay': 1, u'kenya': 10, u'ireland': 1, u'central pacific': 2, u'indian ocean?': 1, u'italy': 71, u'south africa': 565, u'johnston island': 2, u'bay of bengal': 1, u'malta': 5, u'italy / croatia': 1, u'bermuda': 16, u'between portugal & india': 1, u'vanuatu': 14, u'nevis': 1, u'turks & caicos': 5, u'canada': 10, u'pacific ocean ': 2, u'columbia': 9, u'falkland islands': 1, u'singapore': 6, u'solomon islands': 29, u'palestinian territories': 1, u'egypt / israel': 1, u'costa rica': 12, u'slovenia': 1, u'honduras': 3, u'yemen ': 7, u'atlantic ocean': 16, u'tonga': 15, u'guatemala': 1, u'el salvador': 4, u'north sea': 1, u'tanzania': 8, u'indonesia': 20, u'cape verde': 3, u'ocean': 1, u'south china sea': 1, u'vietnam': 14, u'monaco': 1})\n"
     ]
    }
   ],
   "source": [
    "def fix_country_name(country):\n",
    "    if country == 'INDIAN OCEAN':\n",
    "        country = 'INDIA'\n",
    "    elif country == 'REUNION':\n",
    "        country = 'MADAGASCAR'\n",
    "    elif country == 'FRENCH POLYNESIA':\n",
    "        country = 'SAMOA'\n",
    "    elif country == 'NEW BRITAIN':\n",
    "        country = 'PAPUA NEW GUINEA'\n",
    "    elif country == 'NEW GUINEA':\n",
    "        country = 'PAPUA NEW GUINEA'\n",
    "    elif country == 'UNITED ARAB EMIRATES (UAE)':\n",
    "        country = 'UNITED ARAB EMIRATES'\n",
    "    elif country == 'EGYPT ':\n",
    "        country = 'EGYPT'\n",
    "    elif country == 'SCOTLAND':\n",
    "        country = 'UNITED KINGDOM'\n",
    "    elif country == 'OKINAWA':\n",
    "        country = 'JAPAN'\n",
    "    elif country == 'AZORES':\n",
    "        country = 'PORTUGAL'\n",
    "    elif country == 'GUAM':\n",
    "        country = 'United States'\n",
    "    elif country == 'USA':\n",
    "        country = 'United States'\n",
    "    elif country == 'AMERICAN SAMOA':\n",
    "        country = 'SAMOA'\n",
    "    elif country == 'TRINIDAD & TOBAGO':\n",
    "        country = 'TRINIDAD AND TOBAGO'\n",
    "    return country.lower()\n",
    "\n",
    "def get_by_country(line):\n",
    "    try:\n",
    "        tag = line[4]\n",
    "    except:\n",
    "        tag = 'unknown'\n",
    "    tag = fix_country_name(tag)\n",
    "    return (tag, line)\n",
    "\n",
    "by_country_data = raw_data.map(get_by_country)\n",
    "count_by_country = by_country_data.countByKey()\n",
    "\n",
    "print(count_by_country)"
   ]
  },
  {
   "cell_type": "code",
   "execution_count": 58,
   "metadata": {
    "collapsed": false,
    "nbpresent": {
     "id": "5ee25cc7-3b68-4d59-917b-fc9931e83824"
    }
   },
   "outputs": [
    {
     "name": "stdout",
     "output_type": "stream",
     "text": [
      "defaultdict(<type 'int'>, {u'brazil': 1, 'united states': 52, 'madagascar': 1, u'australia': 23, u'columbia': 1, u'south africa': 3, u'egypt': 1, u'united arab emirates': 1, u'indonesia': 1, u'new caledonia': 5, u'cape verde': 1, u'bahamas': 4, u'seychelles': 1, u'china': 1, u'japan': 1, u'cayman islands': 1, 'samoa': 1, u'new zealand': 1, u'fiji': 1, u'dominican republic': 1, u'spain': 2})\n"
     ]
    }
   ],
   "source": [
    "def clean_year_column(line):\n",
    "    try:\n",
    "        tag = line[2]\n",
    "        if tag == '':\n",
    "            line[2] = 0\n",
    "    except:\n",
    "        line.append('0')\n",
    "    return line\n",
    "\n",
    "def count_country_by_year(raw_data, years):\n",
    "    new_raw_data = raw_data.map(clean_year_column)\n",
    "    data_by_year = new_raw_data.filter(lambda x: int(x[2]) in years)\n",
    "    by_country_data = data_by_year.map(get_by_country)\n",
    "    count_by_country = by_country_data.countByKey()\n",
    "    return count_by_country\n",
    "\n",
    "temp = count_country_by_year(raw_data, [2016])\n",
    "pprint(temp)"
   ]
  },
  {
   "cell_type": "code",
   "execution_count": 55,
   "metadata": {
    "collapsed": false,
    "nbpresent": {
     "id": "66759a54-6f59-4e80-a957-0297782aba54"
    }
   },
   "outputs": [],
   "source": [
    "def get_by_activity(line):\n",
    "    try:\n",
    "        activity = line[7]\n",
    "    except:\n",
    "        activity = 'unknown'\n",
    "    return (activity, line)\n",
    "\n",
    "by_activity_data = raw_data.map(get_by_activity)\n",
    "count_by_activity = by_activity_data.countByKey()\n"
   ]
  },
  {
   "cell_type": "code",
   "execution_count": 57,
   "metadata": {
    "collapsed": false
   },
   "outputs": [
    {
     "name": "stdout",
     "output_type": "stream",
     "text": [
      "defaultdict(<type 'int'>, {u'': 22, u'pacific ocean': 8, u'south pacific ocean': 2, u'senegal': 4, u'crete': 1, 'japan': 18, u'taiwan': 3, u'cyprus': 1, u'barbados': 3, u'united kingdom': 2, u'tunisia': 1, u'aruba': 1, u'cook islands': 1, u'sierra leone': 5, u'ghana': 1, u'gulf of aden': 1, u'australia': 341, u'cuba': 24, u'persian gulf': 1, u'guatemala': 1, u'solomon islands / vanuatu': 1, u'haiti': 1, u'liberia': 3, u'coast of africa': 1, u'philippines': 37, u'djibouti': 1, u'namibia': 1, u'sri lanka': 2, u'jamaica': 13, u'greenland': 1, u'england': 3, u'st helena': 1, u'lebanon': 2, u'malaysia': 1, u'mozambique': 20, u'greece': 15, u'nicaragua': 5, u'brazil': 40, u'sudan': 1, u'guinea': 3, u'panama': 19, u'bahrein': 1, u'mediterranean sea': 1, u'somalia': 5, u'croatia': 18, u'south atlantic ocean': 4, u'venezuela': 5, u'southwest pacific ocean': 1, u'korea': 1, u'iran': 13, u'saudi arabia': 1, u'mediterranean sea?': 1, 'trinidad and tobago': 1, u'china': 3, u'thailand': 3, u'belize': 2, u'libya': 2, u'mayotte': 1, u'mauritius': 2, u'marshall islands': 2, u'syria': 1, u'dominican republic': 4, u'burma': 3, u'seychelles': 6, u'ceylon (sri lanka)': 1, u' tonga': 2, u'egypt': 13, u' philippines': 1, u'papua new guinea': 66, 'united states': 248, u'kiribati': 4, 'samoa': 6, u'new zealand': 28, u'fiji': 24, u'red sea / indian ocean': 1, u'turkey': 3, 'madagascar': 31, u'iraq': 3, u'java': 1, u'bangladesh': 1, u'uruguay': 1, u'france': 3, u'bahamas': 12, u'western samoa': 1, u'british virgin islands': 1, u'south korea': 6, u'mid atlantic ocean': 2, u'algeria': 1, u'caribbean sea': 5, u'san domingo': 1, u'montenegro': 2, u'chile': 4, u'maldive islands': 1, u'nigeria': 3, u'spain': 9, u'equatorial guinea / cameroon': 1, u'andaman / nicobar islandas': 1, u'gabon': 1, u'north pacific ocean': 2, u'diego garcia': 1, u'grenada': 3, u'yemen': 2, u'hong kong': 17, u'the balkans': 1, u'portugal': 2, u'mexico': 43, u'india': 23, u'new caledonia': 19, u'paraguay': 1, u'kenya': 6, u'ireland': 1, u'central pacific': 1, u'indian ocean?': 1, u'italy': 18, u'south africa': 137, u'bay of bengal': 1, u'malta': 3, u'bermuda': 3, u'between portugal & india': 1, u'vanuatu': 9, u'nevis': 1, u'turks & caicos': 2, u'canada': 2, u'columbia': 2, u'singapore': 4, u'solomon islands': 12, u'tuvalu': 1, u'costa rica': 8, u'honduras': 2, u'yemen ': 5, u'atlantic ocean': 7, u'tonga': 4, u'el salvador': 2, u'tanzania': 6, u'indonesia': 14, u'cape verde': 2, u'vietnam': 1, u'monaco': 1})\n"
     ]
    }
   ],
   "source": [
    "def clean_fatal_column(line):\n",
    "    try:\n",
    "        tag = line[12]\n",
    "    except:\n",
    "        line.append('N')\n",
    "        line.append('N')\n",
    "        line.append('N')\n",
    "        line.append('N')\n",
    "        line.append('N')\n",
    "        line.append('N')\n",
    "        line.append('N')\n",
    "        line.append('N')\n",
    "        line.append('N')\n",
    "        line.append('N')\n",
    "        line.append('N')\n",
    "        line.append('N')\n",
    "    return line\n",
    "\n",
    "def count_fatal_by_country(raw_data):\n",
    "    new_raw_data = raw_data.map(clean_fatal_column)\n",
    "    data_fatal = new_raw_data.filter(lambda x: x[12] == 'Y')\n",
    "    by_country_data_fatal = data_fatal.map(get_by_country)\n",
    "    count_fatal_by_country = by_country_data_fatal.countByKey()\n",
    "    return count_fatal_by_country\n",
    "\n",
    "temp = count_fatal_by_country(raw_data)\n",
    "pprint(temp)\n",
    "\n",
    "\n",
    "    \n",
    "    "
   ]
  },
  {
   "cell_type": "code",
   "execution_count": 63,
   "metadata": {
    "collapsed": false
   },
   "outputs": [
    {
     "data": {
      "image/png": "[encoded data removed]",
      "text/plain": [
       "<matplotlib.figure.Figure at 0x9c836a0>"
      ]
     },
     "metadata": {},
     "output_type": "display_data"
    },
    {
     "name": "stdout",
     "output_type": "stream",
     "text": [
      "(1429, 383, 1065, 1303)\n"
     ]
    }
   ],
   "source": [
    "font = {\n",
    "        'weight' : 'bold',\n",
    "        'size'   : 20 \n",
    "}\n",
    "\n",
    "plt.rc('font', **font)\n",
    "f, ax = plt.subplots(figsize=(15, 10))\n",
    "\n",
    "\n",
    "labels = ['Fall', 'Winter', 'Spring' ,'Summer']\n",
    "colors = ['orange', 'blue', 'green','yellow']\n",
    "attacks_by_season = (count_by_season_data.get('fall'),count_by_season_data.get('winter'),count_by_season_data.get('spring'),\n",
    "                     count_by_season_data.get('summer'))\n",
    "\n",
    "\n",
    "\n",
    "plt.pie(attacks_by_season, labels=labels, colors=colors,\n",
    "        autopct='%1.1f%%', startangle=90)\n",
    " \n",
    "axis = plt.axis('equal')\n",
    "plt.show()"
   ]
  },
  {
   "cell_type": "code",
   "execution_count": 25,
   "metadata": {
    "collapsed": false,
    "nbpresent": {
     "id": "c5d99df0-533a-4e27-9a30-5c6f9b553a5f"
    }
   },
   "outputs": [
    {
     "ename": "ImportError",
     "evalue": "No module named cartopy",
     "output_type": "error",
     "traceback": [
      "\u001b[0;31m---------------------------------------------------------------------------\u001b[0m",
      "\u001b[0;31mImportError\u001b[0m                               Traceback (most recent call last)",
      "\u001b[0;32m<ipython-input-25-48561abeb95b>\u001b[0m in \u001b[0;36m<module>\u001b[0;34m()\u001b[0m\n\u001b[1;32m      1\u001b[0m \u001b[1;32mimport\u001b[0m \u001b[0mmatplotlib\u001b[0m\u001b[1;33m.\u001b[0m\u001b[0mpyplot\u001b[0m \u001b[1;32mas\u001b[0m \u001b[0mplt\u001b[0m\u001b[1;33m\u001b[0m\u001b[0m\n\u001b[0;32m----> 2\u001b[0;31m \u001b[1;32mimport\u001b[0m \u001b[0mcartopy\u001b[0m\u001b[1;33m\u001b[0m\u001b[0m\n\u001b[0m\u001b[1;32m      3\u001b[0m \u001b[1;32mimport\u001b[0m \u001b[0mcartopy\u001b[0m\u001b[1;33m.\u001b[0m\u001b[0mio\u001b[0m\u001b[1;33m.\u001b[0m\u001b[0mshapereader\u001b[0m \u001b[1;32mas\u001b[0m \u001b[0mshpreader\u001b[0m\u001b[1;33m\u001b[0m\u001b[0m\n\u001b[1;32m      4\u001b[0m \u001b[1;32mimport\u001b[0m \u001b[0mcartopy\u001b[0m\u001b[1;33m.\u001b[0m\u001b[0mcrs\u001b[0m \u001b[1;32mas\u001b[0m \u001b[0mccrs\u001b[0m\u001b[1;33m\u001b[0m\u001b[0m\n\u001b[1;32m      5\u001b[0m \u001b[1;33m\u001b[0m\u001b[0m\n",
      "\u001b[0;31mImportError\u001b[0m: No module named cartopy"
     ]
    }
   ],
   "source": [
    "import matplotlib.pyplot as plt\n",
    "import cartopy\n",
    "import cartopy.io.shapereader as shpreader\n",
    "import cartopy.crs as ccrs\n",
    "\n",
    "# Increase size of map BEFORE Basemap()!!\n",
    "plt.figure(figsize=(30,18))\n",
    "\n",
    "\n",
    "ax = plt.axes(projection=ccrs.PlateCarree())\n",
    "ax.add_feature(cartopy.feature.LAND)\n",
    "ax.add_feature(cartopy.feature.OCEAN)\n",
    "ax.add_feature(cartopy.feature.BORDERS, linestyle='-', alpha=.5)\n",
    "ax.add_feature(cartopy.feature.LAKES, alpha=0.5)\n",
    "ax.add_feature(cartopy.feature.RIVERS)\n",
    "\n",
    "ax.set_extent([-150, 60, -25, 60])\n",
    "\n",
    "shpfilename = shpreader.natural_earth(resolution='110m',\n",
    "                                      category='cultural',\n",
    "                                      name='admin_0_countries')\n",
    "reader = shpreader.Reader(shpfilename)\n",
    "countries = reader.records()\n",
    "\n",
    "#All attacks per country since beginning of data\n",
    "\n",
    "for c in countries:\n",
    "    temp = count_by_country.get(c.attributes['name_long'].lower(), False)\n",
    "    # Loop thingy\n",
    "    if temp:\n",
    "        # 1 - 5\n",
    "        if 0 <= temp and temp < 6:\n",
    "            ax.add_geometries(c.geometry, ccrs.PlateCarree(), facecolor=('#fff600'))\n",
    "        # 6 - 20\n",
    "        elif 6 <= temp and temp < 21:\n",
    "            ax.add_geometries(c.geometry, ccrs.PlateCarree(), facecolor=('#ffc302'))\n",
    "        # 21 - 100\n",
    "        elif 21 <= temp and temp < 101:\n",
    "            ax.add_geometries(c.geometry, ccrs.PlateCarree(), facecolor=('#ff8f00'))\n",
    "        # 101 - 500\n",
    "        elif 101 <= temp and temp < 501:\n",
    "            ax.add_geometries(c.geometry, ccrs.PlateCarree(), facecolor=('#ff5b00'))\n",
    "        # > 500\n",
    "        elif 501 <= temp:\n",
    "            ax.add_geometries(c.geometry, ccrs.PlateCarree(), facecolor=('#ff0505'))\n",
    "    else:\n",
    "        ax.add_geometries(c.geometry, ccrs.PlateCarree(), facecolor=('white'))\n",
    "\n",
    "plt.title(\"Total of shark attacks globally\")\n",
    "plt.show()\n"
   ]
  },
  {
   "cell_type": "code",
   "execution_count": null,
   "metadata": {
    "collapsed": false,
    "nbpresent": {
     "id": "7b45b31a-6ce4-497c-bbba-46e0bacb88c6"
    }
   },
   "outputs": [],
   "source": [
    "#All attacks per country since beginning of data\n",
    "\n",
    "for c in countries:\n",
    "    temp = count_by_country.get(c.attributes['name_long'].lower(), False)\n",
    "    # Loop thingy\n",
    "    if temp:\n",
    "        # 1 - 5\n",
    "        if 0 <= temp and temp < 6:\n",
    "            ax.add_geometries(c.geometry, ccrs.PlateCarree(), facecolor=('#fff600'))\n",
    "        # 6 - 20\n",
    "        elif 6 <= temp and temp < 21:\n",
    "            ax.add_geometries(c.geometry, ccrs.PlateCarree(), facecolor=('#ffc302'))\n",
    "        # 21 - 100\n",
    "        elif 21 <= temp and temp < 101:\n",
    "            ax.add_geometries(c.geometry, ccrs.PlateCarree(), facecolor=('#ff8f00'))\n",
    "        # 101 - 500\n",
    "        elif 101 <= temp and temp < 501:\n",
    "            ax.add_geometries(c.geometry, ccrs.PlateCarree(), facecolor=('#ff5b00'))\n",
    "        # > 500\n",
    "        elif 501 <= temp:\n",
    "            ax.add_geometries(c.geometry, ccrs.PlateCarree(), facecolor=('#ff0505'))\n",
    "    else:\n",
    "        ax.add_geometries(c.geometry, ccrs.PlateCarree(), facecolor=('white'))\n",
    "\n",
    "plt.title(\"Total of shark attacks globally\")\n",
    "plt.show()"
   ]
  },
  {
   "cell_type": "code",
   "execution_count": null,
   "metadata": {
    "collapsed": true,
    "nbpresent": {
     "id": "27e9b12c-7cd2-4c24-abd9-eba8861cbdad"
    }
   },
   "outputs": [],
   "source": [
    "#PERCENTAGE OF FATALITY\n",
    "\n",
    "for c in countries:\n",
    "    temp = cnt_b_cntry.get(c.attributes['name_long'].lower(), false)\n",
    "    # Loop thingy\n",
    "    if temp:\n",
    "        # low\n",
    "        if 0 <= temp and temp < 6:\n",
    "            ax.add_geometries(country.geometry, ccrs.PlateCarree(), facecolor=('#0042e8'))\n",
    "        # low medium\n",
    "        else if 6 <= temp and temp < 21:\n",
    "            ax.add_geometries(country.geometry, ccrs.PlateCarree(), facecolor=('#3ce800'))\n",
    "        # medium high\n",
    "        else if 21 <= temp and temp < 101:\n",
    "            ax.add_geometries(country.geometry, ccrs.PlateCarree(), facecolor=('#f7e901'))\n",
    "        # high\n",
    "        else if 101 <= temp and temp < 501:\n",
    "            ax.add_geometries(country.geometry, ccrs.PlateCarree(), facecolor=('#ef8700'))\n",
    "    else:\n",
    "        ax.add_geometries(country.geometry, ccrs.PlateCarree(), facecolor=('white'))\n",
    "\n",
    "plt.title(\"Percentage of fatal attacks\")\n",
    "plt.show()"
   ]
  },
  {
   "cell_type": "code",
   "execution_count": 38,
   "metadata": {
    "collapsed": false,
    "nbpresent": {
     "id": "253015fd-c0c5-40fb-a94f-30430f5b2255"
    }
   },
   "outputs": [
    {
     "data": {
      "text/html": [
       "\n",
       "<div style='background-color:gainsboro; border:solid black; width:300px; padding:20px;'>\n",
       "Van :<output for=\"from\" id=\"from_output\">1851</output>\n",
       "<input id='from' type='range' min='1851' max='2016' step='5' value='0' onchange='set_vars()'/>\n",
       "Tot : <output for=\"until\" id=\"until_output\">2016</output>\n",
       "<input id='until' type='range' min='1851' max='2016' step='5' value='0' onchange='set_vars()'/>\n",
       "</div>\n",
       "\n",
       "<script type=\"text/Javascript\">\n",
       "    function set_vars(){\n",
       "        var var_name1 = 'inp_from';\n",
       "        var var_value1 = document.getElementById('from').value;\n",
       "        document.getElementById('from_output').value = var_value1;\n",
       "        var var_name2 = 'inp_until';\n",
       "        var var_value2 = document.getElementById('until').value;\n",
       "        document.getElementById('until_output').value = var_value2;\n",
       "        var command1 = var_name1 + \" = '\" + var_value1 + \"'\";\n",
       "        var command2 = var_name2 + \" = '\" + var_value2 + \"'\"; \n",
       "        var kernel = IPython.notebook.kernel;\n",
       "        kernel.execute(command1);\n",
       "        kernel.execute(command2);\n",
       "        cell = IPython.notebook.get_cell(10);\n",
       "        cell.execute();\n",
       "        cell.focus_cell();\n",
       "    }\n",
       "</script>\n"
      ],
      "text/plain": [
       "<IPython.core.display.HTML object>"
      ]
     },
     "execution_count": 38,
     "metadata": {},
     "output_type": "execute_result"
    }
   ],
   "source": [
    "form = \"\"\"\n",
    "<div style='background-color:gainsboro; border:solid black; width:300px; padding:20px;'>\n",
    "Van :<output for=\"from\" id=\"from_output\">1851</output>\n",
    "<input id='from' type='range' min='1851' max='2016' step='5' value='0' onchange='set_vars()'/>\n",
    "Tot : <output for=\"until\" id=\"until_output\">2016</output>\n",
    "<input id='until' type='range' min='1851' max='2016' step='5' value='0' onchange='set_vars()'/>\n",
    "</div>\n",
    "\"\"\"\n",
    "javascript = \"\"\"\n",
    "<script type=\"text/Javascript\">\n",
    "    function set_vars(){\n",
    "        var var_name1 = 'inp_from';\n",
    "        var var_value1 = document.getElementById('from').value;\n",
    "        document.getElementById('from_output').value = var_value1;\n",
    "        var var_name2 = 'inp_until';\n",
    "        var var_value2 = document.getElementById('until').value;\n",
    "        document.getElementById('until_output').value = var_value2;\n",
    "        var command1 = var_name1 + \" = '\" + var_value1 + \"'\";\n",
    "        var command2 = var_name2 + \" = '\" + var_value2 + \"'\"; \n",
    "        var kernel = IPython.notebook.kernel;\n",
    "        kernel.execute(command1);\n",
    "        kernel.execute(command2);\n",
    "        cell = IPython.notebook.get_cell(10);\n",
    "        cell.execute();\n",
    "        cell.focus_cell();\n",
    "    }\n",
    "</script>\n",
    "\"\"\"\n",
    "\n",
    "HTML(form + javascript)"
   ]
  },
  {
   "cell_type": "code",
   "execution_count": 54,
   "metadata": {
    "collapsed": false,
    "nbpresent": {
     "id": "010f382f-6fe6-4c15-8ffa-71e6280b5260"
    }
   },
   "outputs": [
    {
     "name": "stdout",
     "output_type": "stream",
     "text": [
      "defaultdict(<type 'int'>, {u'': 1, u'jamaica': 3, u'seychelles': 4, 'samoa': 13, 'portugal': 2, u'mexico': 18, u'egypt': 16, u'cayman islands': 2, u'new caledonia': 18, u'papua new guinea': 3, 'united states': 625, u'malaysia': 2, u'senegal': 1, u'mozambique': 6, u'greece': 1, u'kenya': 2, u'taiwan': 4, u'canada': 1, u'fiji': 10, u'new zealand': 24, u'brazil': 25, u'bahamas': 36, 'madagascar': 25, u'italy': 3, u'south africa': 84, u'panama': 2, u'malta': 1, u'france': 2, 'united kingdom': 7, u'aruba': 1, u'somalia': 1, u'puerto rico': 1, u'british virgin islands': 1, u'nigeria': 1, u'norway': 1, u'sierra leone': 1, u'ecuador': 6, u'england': 2, u'gulf of aden': 1, u'israel': 1, u'australia': 247, u'columbia': 3, u'cuba': 2, u'solomon islands': 3, u'palestinian territories': 1, u'united arab emirates': 3, u'saudi arabia': 1, u'costa rica': 2, 'trinidad and tobago': 2, u'china': 1, u'chile': 1, u'kiribati': 1, u'belize': 2, u'japan': 4, u'spain': 12, u'atlantic ocean': 3, u'south korea': 1, u'tonga': 3, u'yemen': 1, u'thailand': 1, u'indonesia': 5, u'cape verde': 1, u'russia': 3, u'mauritius': 1, u'vietnam': 10, u'croatia': 2, u'nevis': 1, u'antigua': 1, u'diego garcia': 1, u'st. martin': 1, u'dominican republic': 3, u'turks & caicos': 3, u'philippines': 7})\n"
     ]
    }
   ],
   "source": [
    "period = []\n",
    "for i in range(int(inp_from),int(inp_until)+1):\n",
    "    period.append(i)\n",
    "print (count_country_by_year(raw_data, period))"
   ]
  },
  {
   "cell_type": "code",
   "execution_count": null,
   "metadata": {
    "collapsed": true,
    "nbpresent": {
     "id": "3b47682e-c5a2-4742-8943-99ed45bf82f9"
    }
   },
   "outputs": [],
   "source": []
  }
 ],
 "metadata": {
  "kernelspec": {
   "display_name": "Python [default]",
   "language": "python",
   "name": "python2"
  },
  "language_info": {
   "codemirror_mode": {
    "name": "ipython",
    "version": 2
   },
   "file_extension": ".py",
   "mimetype": "text/x-python",
   "name": "python",
   "nbconvert_exporter": "python",
   "pygments_lexer": "ipython2",
   "version": "2.7.12"
  },
  "nbpresent": {
   "slides": {
    "597cd892-69f0-4228-83fe-cd5e02ee278c": {
     "id": "597cd892-69f0-4228-83fe-cd5e02ee278c",
     "layout": "grid",
     "prev": null,
     "regions": {
      "242630de-560b-45fd-94bf-6b5d040b03af": {
       "attrs": {
        "height": 0.8333333333333334,
        "pad": 0.01,
        "width": 0.8333333333333334,
        "x": 0.08333333333333333,
        "y": 0.08333333333333333
       },
       "id": "242630de-560b-45fd-94bf-6b5d040b03af"
      },
      "c9eeb19b-0ae6-4f4a-ad92-f96278c02be6": {
       "attrs": {
        "height": 1,
        "pad": 0.01,
        "width": 1,
        "x": 0,
        "y": 0
       },
       "id": "c9eeb19b-0ae6-4f4a-ad92-f96278c02be6"
      }
     }
    }
   },
   "themes": {}
  }
 },
 "nbformat": 4,
 "nbformat_minor": 1
}
