{
 "cells": [
  {
   "cell_type": "code",
   "execution_count": 2,
   "metadata": {
    "collapsed": false
   },
   "outputs": [
    {
     "name": "stdout",
     "output_type": "stream",
     "text": [
      "6003\n",
      "6003\n"
     ]
    }
   ],
   "source": [
    "from pprint import pprint\n",
    "\n",
    "data_file = \"../Data/attacks.csv\"\n",
    "raw_data = sc.textFile(data_file)\n",
    "header = raw_data.first() #extract header\n",
    "raw_data = raw_data.filter(lambda row: row != header)\n",
    "\n",
    "countries = {'CROATIA': 0, 'NORWAY': 0, 'FRANCE': 0, 'MARTINIQUE': 0, 'ICELAND': 0, \n",
    "            'JAVA': 1, 'Sierra Leone': 0, 'CYPRUS': 0, 'LIBERIA': 0, 'NEW BRITAIN': 1, \n",
    "            'URUGUAY': 1, 'NORTH ATLANTIC OCEAN ': 0, 'ADMIRALTY ISLANDS': 1, \n",
    "            'PAPUA NEW GUINEA': 1, 'DJIBOUTI': 0, 'TAIWAN': 1, 'EL SALVADOR': 0, \n",
    "            'ST. MAARTIN': 0, 'ASIA?': 0, 'NAMIBIA': 1, 'OCEAN': 1, 'CAPE VERDE': 0, \n",
    "            'MID ATLANTIC OCEAN': 0, 'MAURITIUS': 1, 'ANTIGUA': 0, 'FRENCH POLYNESIA': 1, \n",
    "            'JOHNSTON ISLAND': 0, 'SUDAN': 0, 'SOUTH KOREA': 0, 'TUVALU': 1, \n",
    "            'SOUTH ATLANTIC OCEAN': 1, 'UNITED ARAB EMIRATES (UAE)': 0, 'DOMINICAN REPUBLIC': 0, \n",
    "            ' PHILIPPINES': 0, 'MALAYSIA': 0, 'BRITISH VIRGIN ISLANDS': 0, 'CHINA': 0, \n",
    "            'ATLANTIC OCEAN': 0, 'ITALY': 0, 'VENEZUELA': 0, 'SOLOMON ISLANDS / VANUATU': 1, \n",
    "            'SOUTH CHINA SEA': 0, 'Between PORTUGAL & INDIA': 2, 'DIEGO GARCIA': 1, \n",
    "            'MEDITERRANEAN SEA?': 0, 'INDIAN OCEAN?': 1, 'INDIA': 0, 'SOUTH AFRICA': 1, \n",
    "            'St Helena': 1, 'WESTERN SAMOA': 1, 'TASMAN SEA': 1, 'HONG KONG': 0, 'TONGA': 1, \n",
    "            'YEMEN': 0, 'COLUMBIA': 0, 'NORTHERN MARIANA ISLANDS': 0, 'GUAM': 0, 'GUINEA': 0, \n",
    "            'CENTRAL PACIFIC': 2, 'GUATEMALA': 0, 'FIJI': 1, 'GULF OF ADEN': 0, 'JAPAN': 0, \n",
    "            'MID-PACIFC OCEAN': 0, 'ST. MARTIN': 1, 'USA': 0, 'CRETE': 0, 'BRAZIL': 1, \n",
    "            'TURKS & CAICOS': 0, 'SOUTHWEST PACIFIC OCEAN': 1, 'GREENLAND': 0, \n",
    "            'BAY OF BENGAL': 1, 'PACIFIC OCEAN': 0, 'LEBANON': 0, 'MALTA': 0, 'NIGERIA': 0, \n",
    "            'GREECE': 0, 'MEXICO': 0, 'BERMUDA': 0, 'UNITED KINGDOM': 0, 'SINGAPORE': 0, \n",
    "            'BRITISH ISLES': 0, 'TURKEY': 0, 'NEVIS': 1, 'AUSTRALIA': 1, 'ENGLAND': 0, \n",
    "            'SIERRA LEONE': 0, 'VANUATU': 1, 'NORTH SEA': 0, 'RUSSIA': 0, 'MICRONESIA': 0, \n",
    "            'PORTUGAL': 0, 'RED SEA': 0, 'MONTENEGRO': 0, 'IRAQ': 0, 'SWEDEN': 0, \n",
    "            'PERSIAN GULF': 0, 'NORTH ATLANTIC OCEAN': 0, 'Fiji': 1, 'SLOVENIA': 0, \n",
    "            'PHILIPPINES': 0, 'IRAN / IRAQ': 0, 'TUNISIA': 0, 'SAN DOMINGO': 1, 'AZORES': 0, \n",
    "            'GEORGIA': 0, 'BURMA': 0, 'NEW GUINEA': 1, 'SUDAN?': 0, 'NETHERLANDS ANTILLES': 0, \n",
    "            'ALGERIA': 0, 'NICARAGUA': 0, 'SEYCHELLES': 1, 'RED SEA?': 0, 'BRITISH NEW GUINEA': 1, \n",
    "            'THAILAND': 0, 'PALESTINIAN TERRITORIES': 0, 'FALKLAND ISLANDS': 1, 'IRELAND': 0, \n",
    "            'MONACO': 0, 'PARAGUAY': 1, 'SYRIA': 0, 'EGYPT ': 0, 'MADAGASCAR': 1, \n",
    "            'NORTH PACIFIC OCEAN': 0, 'EGYPT / ISRAEL': 0, 'COOK ISLANDS': 1, \n",
    "            'TRINIDAD & TOBAGO': 0, 'PACIFIC OCEAN ': 0, 'EQUATORIAL GUINEA / CAMEROON': 0, \n",
    "            'ISRAEL': 0, 'SAMOA': 1, 'ECUADOR': 1, 'CARIBBEAN SEA': 0, 'NEW CALEDONIA': 1, \n",
    "            'MARSHALL ISLANDS': 0, 'PANAMA': 0, 'UNITED ARAB EMIRATES': 0, 'ITALY / CROATIA': 0, \n",
    "            'NEW ZEALAND': 1, 'MALDIVE ISLANDS': 0, 'GHANA': 0, 'MOZAMBIQUE': 0, 'SRI LANKA': 0, \n",
    "            'SOLOMON ISLANDS': 1, 'Coast of AFRICA': 1, 'BARBADOS': 0, 'BANGLADESH': 0, \n",
    "            'CHILE': 1, 'CANADA': 0, 'HONDURAS': 0, 'PALAU': 0, 'AMERICAN SAMOA': 1, \n",
    "            'SAUDI ARABIA': 0, ' TONGA': 1, 'SPAIN': 0, 'ARGENTINA': 1, 'CURACAO': 0, \n",
    "            'ANDAMAN / NICOBAR ISLANDAS': 0, 'KENYA': 1, 'EGYPT': 0, 'THE BALKANS': 0, \n",
    "            'PUERTO RICO': 0, 'KIRIBATI': 0, 'OKINAWA': 0, 'REUNION': 1, \n",
    "            'BRITISH WEST INDIES': 0, 'NICARAGUA ': 0, 'FEDERATED STATES OF MICRONESIA': 0, \n",
    "            'IRAN': 0, 'CAYMAN ISLANDS': 0, 'SOMALIA': 0, 'INDONESIA': 1, 'KUWAIT': 0, \n",
    "            'Seychelles': 1, 'COSTA RICA': 0, 'INDIAN OCEAN': 1, 'CEYLON (SRI LANKA)': 0, \n",
    "            'YEMEN ': 0, 'HAITI': 0, 'SCOTLAND': 0, 'CUBA': 0, 'GUYANA': 0, 'LIBYA': 0, \n",
    "            'MEXICO ': 0, 'SENEGAL': 0, 'GRAND CAYMAN': 0, 'GABON': 1, 'GRENADA': 0, \n",
    "            'RED SEA / INDIAN OCEAN': 0, 'VIETNAM': 0, 'BAHAMAS': 0, 'BAHREIN': 0, \n",
    "            'NORTHERN ARABIAN SEA': 0, 'BELIZE': 0, 'MEDITERRANEAN SEA': 0, 'ANGOLA': 1, \n",
    "            'SOUTH PACIFIC OCEAN': 1, 'TANZANIA': 1, 'KOREA': 0, 'JAMAICA': 0, 'ARUBA': 0, \n",
    "            'MAYOTTE':1}\n",
    "\n",
    "def add_hemisphere(line):\n",
    "    elems = line.split(',')\n",
    "    try:\n",
    "        country = elems[4]\n",
    "    except:\n",
    "        country = ''\n",
    "    hemi = countries.get(country)\n",
    "    elems.append(hemi)\n",
    "    return (elems)\n",
    "\n",
    "raw_data = raw_data.map(add_hemisphere)\n",
    "pprint(raw_data.count())\n",
    "\n",
    "def get_season(month, day, hemi):\n",
    "    m = month * 100\n",
    "    if day == 0:\n",
    "        d = 1\n",
    "    else:\n",
    "        d = day\n",
    "    md = m + d\n",
    "    if hemi == 0:\n",
    "        if ((md >= 301) and (md <= 531)):\n",
    "            s = 'spring'\n",
    "        elif ((md > 531) and (md < 901)):\n",
    "            s = 'summer'\n",
    "        elif ((md >= 901) and (md <= 1130)):\n",
    "            s = 'fall'\n",
    "        elif ((md > 1130) and (md <= 229)):\n",
    "            s = 'winter'\n",
    "        else:\n",
    "            s = 'unknown'\n",
    "    else:\n",
    "        if ((md >= 301) and (md <= 531)):\n",
    "            s = 'fall'\n",
    "        elif ((md > 531) and (md < 901)):\n",
    "            s = 'winter'\n",
    "        elif ((md >= 901) and (md <= 1130)):\n",
    "            s = 'spring'\n",
    "        elif ((md > 1130) and (md <= 229)):\n",
    "            s = 'summer'\n",
    "        else:\n",
    "            s = 'unknown'\n",
    "    return s\n",
    "\n",
    "def add_season(line):\n",
    "    date = line[0]\n",
    "    year = date.split('.')[0]\n",
    "    try:\n",
    "        month = int(date.split('.')[1])\n",
    "        day = int(date.split('.')[2])\n",
    "    except:\n",
    "        month = 0\n",
    "        day = 0\n",
    "    try:\n",
    "        hemi = line[16]\n",
    "    except:\n",
    "        hemi = 0\n",
    "    if year.startswith('00') or len(year) != 4 or month == 0:\n",
    "        season = 'unknown'\n",
    "    else:\n",
    "        season = get_season(month,day,hemi)\n",
    "    line.append(season)\n",
    "    return line\n",
    "season_raw_data = raw_data.map(add_season)\n",
    "pprint(season_raw_data.count())\n",
    "\n"
   ]
  },
  {
   "cell_type": "code",
   "execution_count": 3,
   "metadata": {
    "collapsed": false
   },
   "outputs": [
    {
     "name": "stdout",
     "output_type": "stream",
     "text": [
      "defaultdict(<type 'int'>, {'unknown': 1823, 'fall': 1429, 'summer': 1303, 'winter': 383, 'spring': 1065})\n",
      "1303\n"
     ]
    }
   ],
   "source": [
    "def get_by_season(line):\n",
    "    try:\n",
    "        tag = line[17]\n",
    "    except:\n",
    "        tag = 'unknown'\n",
    "    return (tag, line)\n",
    "\n",
    "by_season_data = season_raw_data.map(get_by_season)\n",
    "count_by_season_data = by_season_data.countByKey()\n",
    "pprint(count_by_season_data)\n",
    "print(count_by_season_data.get('summer'))"
   ]
  },
  {
   "cell_type": "code",
   "execution_count": 4,
   "metadata": {
    "collapsed": false
   },
   "outputs": [
    {
     "data": {
      "text/plain": [
       "u'2016.09.18.c,18-Sep-2016,2016,Unprovoked,USA,Florida,New Smyrna Beach; Volusia County,Surfing,male,M,16,Minor injury to thigh,N,13h00,,Orlando Sentinel; 9/19/2016'"
      ]
     },
     "execution_count": 4,
     "metadata": {},
     "output_type": "execute_result"
    }
   ],
   "source": []
  },
  {
   "cell_type": "code",
   "execution_count": 5,
   "metadata": {
    "collapsed": false
   },
   "outputs": [
    {
     "name": "stdout",
     "output_type": "stream",
     "text": [
      "[(u'Y',\n",
      "  [u'2016.09.06',\n",
      "   u'06-Sep-2016',\n",
      "   u'2016',\n",
      "   u'Unprovoked',\n",
      "   u'NEW CALEDONIA',\n",
      "   u'North Province',\n",
      "   u'Koumac',\n",
      "   u'Kite surfing',\n",
      "   u'David Jewell',\n",
      "   u'M',\n",
      "   u'50',\n",
      "   u'FATAL',\n",
      "   u'Y',\n",
      "   u'15h40',\n",
      "   u'',\n",
      "   u'TVANouvelles; 9/6/2016',\n",
      "   1]),\n",
      " (u'Y',\n",
      "  [u'2016.06.05.a',\n",
      "   u'05-Jun-2016',\n",
      "   u'2016',\n",
      "   u'Unprovoked',\n",
      "   u'AUSTRALIA',\n",
      "   u'Western Australia',\n",
      "   u'Mindarie',\n",
      "   u'Diving',\n",
      "   u'Doreen Collyer',\n",
      "   u'F',\n",
      "   u'60',\n",
      "   u'FATAL',\n",
      "   u'Y',\n",
      "   u'11h30',\n",
      "   u'3+ m shark',\n",
      "   u'B. Myatt; GSAF',\n",
      "   1])]\n",
      "4326\n",
      "1552\n"
     ]
    }
   ],
   "source": [
    "def get_by_fatal(elems):\n",
    "    try:\n",
    "        tag = elems[12]\n",
    "    except:\n",
    "        tag = 'N'\n",
    "    return (tag, elems)\n",
    "\n",
    "by_fatal_data = raw_data.map(get_by_fatal)\n",
    "fatal_data = by_fatal_data.filter(lambda x: x[0] == 'Y')\n",
    "non_fatal_data = by_fatal_data.filter(lambda x: x[0] == 'N')\n",
    "pprint(fatal_data.take(2))\n",
    "print(non_fatal_data.count())\n",
    "print(fatal_data.count())\n",
    "\n",
    "\n",
    "\n",
    "    "
   ]
  },
  {
   "cell_type": "code",
   "execution_count": 6,
   "metadata": {
    "collapsed": false
   },
   "outputs": [
    {
     "name": "stdout",
     "output_type": "stream",
     "text": [
      "defaultdict(<type 'int'>, {u'': 2, u'1788': 1, u'1818': 1, u'1785': 1, u'1787': 1, u'1869': 2, u'1868': 6, u'1832': 2, u'1948': 29, u'1949': 31, u'1836': 2, u'1837': 3, u'1834': 1, u'1835': 2, u'1942': 41, u'1943': 28, u'1940': 24, u'1941': 27, u'1946': 26, u'1947': 30, u'1944': 31, u'1945': 16, '0': 132, u'2015': 139, u'2014': 125, u'2016': 103, u'2011': 128, u'2010': 101, u'2013': 122, u'2012': 117, u'1918': 5, u'1791': 1, u'1955': 43, u'1954': 42, u'1957': 41, u'1956': 51, u'1951': 31, u'1950': 43, u'1953': 36, u'1952': 29, u'1555': 1, u'1959': 93, u'1958': 54, u'1554': 1, u'1700': 3, u'1703': 1, u'1829': 2, u'1828': 2, u'1825': 2, u'1827': 4, u'1826': 3, u'52': 1, u'1870': 8, u'1811': 1, u'1871': 8, u'1920': 15, u'1921': 11, u'1922': 22, u'1923': 21, u'1924': 19, u'1925': 14, u'1926': 21, u'1927': 19, u'1928': 26, u'1929': 37, u'1822': 1, u'1858': 4, u'1859': 1, u'1850': 1, u'1851': 3, u'1852': 10, u'1853': 7, u'1854': 1, u'1855': 7, u'1856': 4, u'1878': 12, u'1879': 8, u'1738': 1, u'1830': 3, u'1933': 22, u'1932': 27, u'1931': 29, u'1930': 26, u'1937': 30, u'1936': 30, u'1935': 32, u'1934': 27, u'1771': 1, u'1939': 24, u'1938': 24, u'1543': 1, u'1849': 6, u'1848': 3, u'1642': 2, u'1842': 3, u'1841': 1, u'1840': 4, u'1847': 6, u'1846': 1, u'1845': 4, u'1721': 1, u'1617': 1, u'1580': 1, u'1839': 4, u'1779': 1, u'1876': 8, u'1877': 14, u'1874': 10, u'1875': 5, u'1872': 7, u'1873': 4, u'1908': 13, u'1909': 18, u'1906': 21, u'1907': 23, u'1904': 13, u'1905': 16, u'1902': 15, u'1903': 10, u'1900': 13, u'1901': 9, u'1986': 39, u'1987': 35, u'1984': 41, u'1985': 37, u'1982': 40, u'1983': 50, u'1980': 35, u'1981': 49, u'1638': 1, u'1733': 1, u'1988': 55, u'1989': 53, u'500': 1, u'1861': 5, u'1860': 6, u'1863': 7, u'1862': 12, u'1865': 4, u'1864': 8, u'1867': 4, u'1866': 1, u'1911': 16, u'1910': 14, u'1913': 16, u'1912': 13, u'1915': 12, u'1914': 17, u'1917': 11, u'1916': 25, u'1991': 38, u'1990': 38, u'1993': 56, u'1992': 56, u'1995': 76, u'1994': 56, u'1997': 57, u'1996': 61, u'1999': 65, u'1998': 65, u'1800': 1, u'1831': 1, u'1748': 1, u'1749': 1, u'1819': 1, u'1742': 1, u'1637': 1, u'1898': 19, u'1899': 19, u'1894': 15, u'1895': 20, u'1896': 11, u'1844': 4, u'1890': 16, u'1891': 8, u'1892': 11, u'1893': 13, u'1816': 1, u'1897': 11, u'1968': 46, u'1969': 30, u'1812': 1, u'1776': 2, u'1964': 66, u'1965': 51, u'1966': 58, u'1967': 48, u'1960': 93, u'1961': 78, u'1962': 86, u'1963': 61, u'5': 1, u'1758': 1, u'1755': 1, u'77': 1, u'1817': 4, u'1595': 1, u'1889': 9, u'1888': 15, u'1887': 12, u'1886': 15, u'1885': 9, u'1884': 6, u'1883': 10, u'1882': 11, u'1881': 9, u'1880': 15, u'1807': 1, u'1919': 14, u'1805': 1, u'1804': 1, u'1803': 1, u'1979': 25, u'1978': 25, u'1977': 26, u'1976': 39, u'1975': 49, u'1974': 38, u'1973': 27, u'1972': 35, u'1971': 28, u'1970': 42, u'2002': 88, u'2003': 92, u'2000': 97, u'2001': 92, u'2006': 103, u'2007': 112, u'2004': 92, u'2005': 103, u'2008': 121, u'2009': 120, u'1767': 1, u'1764': 1})\n"
     ]
    }
   ],
   "source": [
    "def get_by_year(line):\n",
    "    try:\n",
    "        tag = line[2]\n",
    "    except:\n",
    "        tag = '0'\n",
    "    return (tag, line)\n",
    "\n",
    "by_year_data = raw_data.map(get_by_year)\n",
    "count_by_year = by_year_data.countByKey()\n",
    "\n",
    "pprint(count_by_year)\n",
    "    "
   ]
  },
  {
   "cell_type": "code",
   "execution_count": 8,
   "metadata": {
    "collapsed": false
   },
   "outputs": [
    {
     "name": "stdout",
     "output_type": "stream",
     "text": [
      "defaultdict(<type 'int'>, {u'': 43, u'BRITISH NEW GUINEA': 1, u'PACIFIC OCEAN ': 2, u'CEYLON (SRI LANKA)': 1, u'PORTUGAL': 3, u'TRINIDAD & TOBAGO': 3, u'NORTH ATLANTIC OCEAN': 4, u'MONTENEGRO': 3, u'NEW CALEDONIA': 51, u'INDIAN OCEAN': 7, u'BAHAMAS': 98, u'ARUBA': 1, u'NORTH PACIFIC OCEAN': 7, u'KIRIBATI': 6, u'INDIA': 37, u'SUDAN?': 1, u'ANDAMAN / NICOBAR ISLANDAS': 1, u'FEDERATED STATES OF MICRONESIA': 1, u'IRAQ': 12, u'ALGERIA': 1, u'COSTA RICA': 12, u'SWEDEN': 1, u'UNITED ARAB EMIRATES (UAE)': 2, u'MID ATLANTIC OCEAN': 5, u'NORWAY': 2, u'IRAN': 29, u'EGYPT ': 2, u'SOLOMON ISLANDS': 29, u'PALESTINIAN TERRITORIES': 1, u'PAPUA NEW GUINEA': 133, u'BRITISH WEST INDIES': 1, u'GABON': 1, u'VANUATU': 14, u'YEMEN': 2, u'VENEZUELA': 11, u'ECUADOR': 8, u'ST. MAARTIN': 1, u'AUSTRALIA': 1279, u'ENGLAND': 19, u'KUWAIT': 1, u'TANZANIA': 8, u'SCOTLAND': 8, u'FRANCE': 13, u'MEDITERRANEAN SEA': 2, u'REUNION': 57, u'SRI LANKA': 13, u'ST. MARTIN': 1, u'SOUTH ATLANTIC OCEAN': 12, u'ATLANTIC OCEAN': 16, u'TONGA': 15, u'GEORGIA': 1, u'COLUMBIA': 9, u'LIBYA': 5, u'SOUTH AFRICA': 565, u'MAYOTTE': 1, u'INDONESIA': 20, u'GRAND CAYMAN': 1, u'VIETNAM': 14, u'MOZAMBIQUE': 44, u'DIEGO GARCIA': 1, u'ASIA?': 1, u'Between PORTUGAL & INDIA': 1, u'St Helena': 1, u'CANADA': 10, u'JAMAICA': 23, u'KOREA': 1, u'Coast of AFRICA': 1, u'SINGAPORE': 6, u'EGYPT': 36, u'ADMIRALTY ISLANDS': 1, u'SIERRA LEONE': 8, u'SENEGAL': 11, u'BARBADOS': 5, u'WESTERN SAMOA': 1, u'MALDIVE ISLANDS': 1, u'YEMEN ': 7, u'COOK ISLANDS': 1, u'RED SEA / INDIAN OCEAN': 1, u'PACIFIC OCEAN': 17, u'SEYCHELLES': 7, u'ANGOLA': 1, u'JOHNSTON ISLAND': 2, u'SOUTHWEST PACIFIC OCEAN': 2, u'OCEAN': 1, u'MALAYSIA': 4, u'IRELAND': 1, u'GRENADA': 4, u'NIGERIA': 4, u'BURMA': 4, u' TONGA': 3, u'BANGLADESH': 1, u'SLOVENIA': 1, u'ICELAND': 1, u'OKINAWA': 6, u'IRAN / IRAQ': 1, u'BRITISH VIRGIN ISLANDS': 1, u'NICARAGUA ': 1, u'MONACO': 1, u'CRETE': 2, u'KENYA': 10, u'INDIAN OCEAN?': 1, u'NEW GUINEA': 10, u'ISRAEL': 7, u'MEXICO': 81, u'TUVALU': 1, u'CAPE VERDE': 3, u'UNITED KINGDOM': 10, u'PARAGUAY': 1, u'SYRIA': 1, u'THAILAND': 6, u'NEW ZEALAND': 125, u'BRAZIL': 102, u'MADAGASCAR': 7, 'unknown': 8, u'MEDITERRANEAN SEA?': 1, u' PHILIPPINES': 1, u'CROATIA': 34, u'BRITISH ISLES': 1, u'RED SEA': 1, u'PUERTO RICO': 1, u'HONG KONG': 24, u'Sierra Leone': 1, u'GHANA': 1, u'SAUDI ARABIA': 5, u'ITALY': 71, u'CARIBBEAN SEA': 8, u'PHILIPPINES': 59, u'BAHREIN': 1, u'N': 3, u'BERMUDA': 16, u'SOMALIA': 6, u'JAVA': 1, u'ARGENTINA': 1, u'CYPRUS': 1, u'CENTRAL PACIFIC': 2, u'NEVIS': 1, u'TURKS & CAICOS': 5, u'FALKLAND ISLANDS': 1, u'Seychelles': 1, u'MEXICO ': 1, u'NICARAGUA': 6, u'CAYMAN ISLANDS': 2, u'PERSIAN GULF': 4, u'CHINA': 6, u'GUYANA': 1, u'SOLOMON ISLANDS / VANUATU': 1, u'Fiji': 3, u'RUSSIA': 4, u'LIBERIA': 3, u'NORTHERN ARABIAN SEA': 1, u'USA': 2116, u'AZORES': 5, u'GUAM': 4, u'MARTINIQUE': 1, u'BAY OF BENGAL': 1, u'AMERICAN SAMOA': 3, u'MAURITIUS': 7, u'NAMIBIA': 2, u'GREECE': 25, u'NETHERLANDS ANTILLES': 1, u'PALAU': 5, u'TAIWAN': 9, u'BELIZE': 3, u'FIJI': 62, u'NORTH ATLANTIC OCEAN ': 1, u'GREENLAND': 1, u'EL SALVADOR': 4, u'NORTH SEA': 1, u'RED SEA?': 1, u'EGYPT / ISRAEL': 1, u'ITALY / CROATIA': 1, u'MICRONESIA': 3, u'SUDAN': 4, u'HONDURAS': 3, u'TASMAN SEA': 1, u'SAN DOMINGO': 1, u'SPAIN': 40, u'GULF OF ADEN': 1, u'LEBANON': 3, u'CURACAO': 1, u'CUBA': 42, u'UNITED ARAB EMIRATES': 1, u'MALTA': 5, u'SOUTH CHINA SEA': 1, u'DJIBOUTI': 1, u'MARSHALL ISLANDS': 13, u'MID-PACIFC OCEAN': 1, u'ANTIGUA': 1, u'JAPAN': 32, u'NEW BRITAIN': 6, u'DOMINICAN REPUBLIC': 7, u'HAITI': 3, u'EQUATORIAL GUINEA / CAMEROON': 1, u'TURKEY': 12, u'SAMOA': 7, u'NORTHERN MARIANA ISLANDS': 1, u'URUGUAY': 3, u'GUINEA': 3, u'PANAMA': 32, u'SOUTH PACIFIC OCEAN': 2, u'FRENCH POLYNESIA': 22, u'TUNISIA': 3, u'GUATEMALA': 1, u'CHILE': 8, u'SOUTH KOREA': 8, u'THE BALKANS': 1})\n"
     ]
    }
   ],
   "source": [
    "def get_by_country(line):\n",
    "    try:\n",
    "        tag = line[4]\n",
    "    except:\n",
    "        tag = 'unknown'\n",
    "    return (tag, line)\n",
    "\n",
    "by_country_data = raw_data.map(get_by_country)\n",
    "count_by_country = by_country_data.countByKey()\n",
    "\n",
    "print(count_by_country)"
   ]
  },
  {
   "cell_type": "code",
   "execution_count": null,
   "metadata": {
    "collapsed": false
   },
   "outputs": [],
   "source": [
    "def get_country_by_year(line):\n",
    "    try:\n",
    "        year = line[2]\n",
    "    except:\n",
    "        year = '0'\n",
    "    try:\n",
    "        country = line[4]\n",
    "    except:\n",
    "        country = 'unknown'\n",
    "    return (year, country)\n",
    "\n",
    "countries_grouped_by_year = raw_data.map(get_country_by_year).groupByKey().map(lambda x : (x[0], list(x[1]))).collect()\n",
    "print (countries_grouped_by_year)"
   ]
  },
  {
   "cell_type": "code",
   "execution_count": null,
   "metadata": {
    "collapsed": true
   },
   "outputs": [],
   "source": []
  }
 ],
 "metadata": {
  "anaconda-cloud": {},
  "kernelspec": {
   "display_name": "Python [default]",
   "language": "python",
   "name": "python2"
  },
  "language_info": {
   "codemirror_mode": {
    "name": "ipython",
    "version": 2
   },
   "file_extension": ".py",
   "mimetype": "text/x-python",
   "name": "python",
   "nbconvert_exporter": "python",
   "pygments_lexer": "ipython2",
   "version": "2.7.12"
  }
 },
 "nbformat": 4,
 "nbformat_minor": 1
}
